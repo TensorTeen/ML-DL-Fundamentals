{
  "nbformat": 4,
  "nbformat_minor": 0,
  "metadata": {
    "colab": {
      "provenance": []
    },
    "kernelspec": {
      "name": "python3",
      "display_name": "Python 3"
    },
    "language_info": {
      "name": "python"
    }
  },
  "cells": [
    {
      "cell_type": "code",
      "source": [
        "!sudo apt-get install unzip\n",
        "!unzip archive.zip -d ."
      ],
      "metadata": {
        "colab": {
          "base_uri": "https://localhost:8080/"
        },
        "id": "RKiynN5GtBzu",
        "outputId": "80cfaaff-cb66-479b-8fbb-2f07d871963a"
      },
      "execution_count": 2,
      "outputs": [
        {
          "output_type": "stream",
          "name": "stdout",
          "text": [
            "Reading package lists... Done\n",
            "Building dependency tree... Done\n",
            "Reading state information... Done\n",
            "unzip is already the newest version (6.0-26ubuntu3.2).\n",
            "0 upgraded, 0 newly installed, 0 to remove and 45 not upgraded.\n",
            "Archive:  archive.zip\n",
            "  inflating: ./Student_Performance.csv  \n"
          ]
        }
      ]
    },
    {
      "cell_type": "code",
      "execution_count": 3,
      "metadata": {
        "id": "3OA6XTt0jEo-"
      },
      "outputs": [],
      "source": [
        "import pandas as pd\n",
        "import numpy as np\n",
        "import matplotlib.pyplot as plt"
      ]
    },
    {
      "cell_type": "markdown",
      "source": [
        "## Importing the Dataset\n",
        "The dataset has 6 (5 + 1 constant) variables and the target parameter is Performance Index"
      ],
      "metadata": {
        "id": "1OEQEBo_vee7"
      }
    },
    {
      "cell_type": "code",
      "source": [
        "df = pd.read_csv(\"Student_Performance.csv\")\n",
        "df['Extracurricular Activities'] = df['Extracurricular Activities'].apply(lambda x: 1 if x=='Yes' else 0)"
      ],
      "metadata": {
        "id": "p-qgIlu9j6S8"
      },
      "execution_count": 4,
      "outputs": []
    },
    {
      "cell_type": "code",
      "source": [
        "df['constant'] = 1\n",
        "df['train'] = 1"
      ],
      "metadata": {
        "id": "8_Td4rBElF0P"
      },
      "execution_count": 5,
      "outputs": []
    },
    {
      "cell_type": "markdown",
      "source": [
        "## Principal Component Analysis\n",
        "\n",
        "Essentially we find the direction  in which sample variance is highest"
      ],
      "metadata": {
        "id": "6K1p_dLFvPaR"
      }
    },
    {
      "cell_type": "code",
      "source": [
        "df_pcr = df"
      ],
      "metadata": {
        "id": "jeXJlfVNPP_r"
      },
      "execution_count": 6,
      "outputs": []
    },
    {
      "cell_type": "code",
      "source": [
        "X_train_c = np.array(df_pcr.drop([\"Performance Index\"],axis=1)) - np.array(df_pcr.drop([\"Performance Index\"],axis=1).mean(axis=0))\n",
        "y_train_c = np.array(df_pcr[\"Performance Index\"]) - np.array(df_pcr[\"Performance Index\"].mean(axis=0))"
      ],
      "metadata": {
        "id": "shbGOHhlPGS6"
      },
      "execution_count": 7,
      "outputs": []
    },
    {
      "cell_type": "markdown",
      "source": [
        "### Eigen Decomposition\n",
        "We decompose the covariance matrix into its eigen vectors\n",
        "\n",
        "$$ X^T X = V \\Sigma V^T$$\n",
        "\n",
        "The vectors of v are the prinicipal components in the data"
      ],
      "metadata": {
        "id": "J2g1Vtudi_Ef"
      }
    },
    {
      "cell_type": "code",
      "source": [
        "lamb,v = np.linalg.eig(X_train_c.T@X_train_c)"
      ],
      "metadata": {
        "id": "RUv6aa3AvCM8"
      },
      "execution_count": 8,
      "outputs": []
    },
    {
      "cell_type": "markdown",
      "source": [
        "We sort the principal components in terms of the magnitude of its eigenvectors"
      ],
      "metadata": {
        "id": "P89N-I3QjVh2"
      }
    },
    {
      "cell_type": "code",
      "source": [
        "idx = lamb.argsort()[::-1]\n",
        "lamb= lamb[idx]\n",
        "v = v[:,idx]"
      ],
      "metadata": {
        "id": "ih0Ae1wiyl1P"
      },
      "execution_count": 9,
      "outputs": []
    },
    {
      "cell_type": "markdown",
      "source": [
        "We then calculate the explained variance by cumulatively adding each component in descending order"
      ],
      "metadata": {
        "id": "s_UgcXNJjfCC"
      }
    },
    {
      "cell_type": "code",
      "source": [
        "evar = np.cumsum(lamb) / lamb.sum()"
      ],
      "metadata": {
        "id": "4pouSDdXSwC_"
      },
      "execution_count": 10,
      "outputs": []
    },
    {
      "cell_type": "markdown",
      "source": [
        "Here we notice that only the first 3 components add most of the explained variance"
      ],
      "metadata": {
        "id": "NTOpAr32jtl2"
      }
    },
    {
      "cell_type": "code",
      "source": [
        "evar"
      ],
      "metadata": {
        "colab": {
          "base_uri": "https://localhost:8080/"
        },
        "id": "r3CDmNGWTjYq",
        "outputId": "5a6147e0-ee8b-4718-b323-2185c74c28bb"
      },
      "execution_count": 11,
      "outputs": [
        {
          "output_type": "execute_result",
          "data": {
            "text/plain": [
              "array([0.94338659, 0.96920666, 0.99019654, 0.99921658, 1.        ,\n",
              "       1.        , 1.        ])"
            ]
          },
          "metadata": {},
          "execution_count": 11
        }
      ]
    },
    {
      "cell_type": "markdown",
      "source": [
        "We choose only the first 3 components and project X in that space. We then estimate the parameters with these 3 components. As the data is centered no need of constant term"
      ],
      "metadata": {
        "id": "13OWPTuyjspp"
      }
    },
    {
      "cell_type": "code",
      "source": [
        "comps = v[:,:3]"
      ],
      "metadata": {
        "id": "l-S5HRLpTkAN"
      },
      "execution_count": 12,
      "outputs": []
    },
    {
      "cell_type": "code",
      "source": [
        "X_pcr = X_train_c@comps\n",
        "Y_pcr = y_train_c"
      ],
      "metadata": {
        "id": "ryyjexp_TxX7"
      },
      "execution_count": 13,
      "outputs": []
    },
    {
      "cell_type": "code",
      "source": [
        "X_train_pcr,Y_train_pcr = X_pcr[:8000], Y_pcr[:8000]\n",
        "X_test_pcr,Y_test_pcr = X_pcr[8000:], Y_pcr[8000:]"
      ],
      "metadata": {
        "id": "dn6cGMp8TzUl"
      },
      "execution_count": 14,
      "outputs": []
    },
    {
      "cell_type": "code",
      "source": [
        "m = np.linalg.inv(X_train_pcr.T@X_train_pcr)@X_train_pcr.T@Y_train_pcr"
      ],
      "metadata": {
        "id": "zhvvyJmBU4rd"
      },
      "execution_count": 15,
      "outputs": []
    },
    {
      "cell_type": "code",
      "source": [
        "y_pred = X_test_pcr@m.T"
      ],
      "metadata": {
        "id": "XBVsc-PUU61s"
      },
      "execution_count": 16,
      "outputs": []
    },
    {
      "cell_type": "code",
      "source": [
        "ESS = np.square(y_pred-Y_test_pcr.mean()).sum()\n",
        "RSS = np.square(y_pred-Y_test_pcr).sum()\n",
        "R2 = ESS / (ESS + RSS)\n",
        "adjR2 = ESS*(2000-3) / ((RSS+ESS)*(2000-1))"
      ],
      "metadata": {
        "id": "zIg4rcBPVYTB"
      },
      "execution_count": 17,
      "outputs": []
    },
    {
      "cell_type": "markdown",
      "source": [
        "We find that only with the 3 principal components we have very close Adjusted R2 value"
      ],
      "metadata": {
        "id": "P3reM_jNkE85"
      }
    },
    {
      "cell_type": "code",
      "source": [
        "adjR2"
      ],
      "metadata": {
        "colab": {
          "base_uri": "https://localhost:8080/"
        },
        "id": "IGa-z0rPWK5n",
        "outputId": "a4f47abb-7c33-4545-e22d-57f32788b90d"
      },
      "execution_count": 18,
      "outputs": [
        {
          "output_type": "execute_result",
          "data": {
            "text/plain": [
              "0.9852917965590035"
            ]
          },
          "metadata": {},
          "execution_count": 18
        }
      ]
    },
    {
      "cell_type": "markdown",
      "source": [
        "## Partial Least Squares\n",
        "The main drawback with PCA is that, the derived input direction doesn't take into account the variation of dependent variables. So it could happen that in some of the prinicipal component directions variation of Y is very small. Hence we use Partial Least Squares methods."
      ],
      "metadata": {
        "id": "gJVyF5AnySSN"
      }
    },
    {
      "cell_type": "code",
      "execution_count": 19,
      "metadata": {
        "id": "2oUYfOqY2GOU"
      },
      "outputs": [],
      "source": [
        "import pandas as pd\n",
        "import numpy as np\n",
        "import matplotlib.pyplot as plt"
      ]
    },
    {
      "cell_type": "markdown",
      "source": [
        "## Importing the Dataset\n",
        "The dataset has 6 (5 + 1 constant) variables and the target parameter is Performance Index"
      ],
      "metadata": {
        "id": "uyX8XHSS2GOU"
      }
    },
    {
      "cell_type": "code",
      "source": [
        "df = pd.read_csv(\"Student_Performance.csv\")\n",
        "df['Extracurricular Activities'] = df['Extracurricular Activities'].apply(lambda x: 1 if x=='Yes' else 0)"
      ],
      "metadata": {
        "id": "wr8G0vS72GOU"
      },
      "execution_count": 22,
      "outputs": []
    },
    {
      "cell_type": "code",
      "source": [
        "X,Y  = np.array(df.drop(\"Performance Index\",axis=1)), np.array(df['Performance Index'])"
      ],
      "metadata": {
        "id": "khuKj_9X2ACq"
      },
      "execution_count": 25,
      "outputs": []
    },
    {
      "cell_type": "code",
      "source": [
        "X_red,Y_red = X[:2],Y[:2]"
      ],
      "metadata": {
        "id": "VkPaRpqM2vS7"
      },
      "execution_count": 30,
      "outputs": []
    },
    {
      "cell_type": "code",
      "source": [
        "np.linalg.eig(X_red.T @ X_red)"
      ],
      "metadata": {
        "colab": {
          "base_uri": "https://localhost:8080/"
        },
        "id": "7XTsVilv2OOi",
        "outputId": "98ab5a7c-c276-46cf-9a46-6cd703ba4ed3"
      },
      "execution_count": 31,
      "outputs": [
        {
          "output_type": "execute_result",
          "data": {
            "text/plain": [
              "EigResult(eigenvalues=array([ 1.66828564e+04,  2.42038025e-14,  1.01435867e+01, -1.12531735e-15,\n",
              "       -8.05066484e-17]), eigenvectors=array([[-0.06151446, -0.90094683,  0.42954718, -0.03071734, -0.01246139],\n",
              "       [-0.99525548,  0.0277053 , -0.0844182 , -0.03794534,  0.01408377],\n",
              "       [-0.00597283,  0.09565673,  0.19977832, -0.01792556,  0.96720087],\n",
              "       [-0.07346011,  0.40031004,  0.82910382,  0.33890602, -0.24596464],\n",
              "       [-0.01582516, -0.13464354, -0.28467222,  0.9393817 , -0.06058242]]))"
            ]
          },
          "metadata": {},
          "execution_count": 31
        }
      ]
    },
    {
      "cell_type": "code",
      "source": [],
      "metadata": {
        "id": "FymoZW2Z2eK5"
      },
      "execution_count": null,
      "outputs": []
    }
  ]
}