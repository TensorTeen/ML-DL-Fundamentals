{
  "nbformat": 4,
  "nbformat_minor": 0,
  "metadata": {
    "colab": {
      "provenance": []
    },
    "kernelspec": {
      "name": "python3",
      "display_name": "Python 3"
    },
    "language_info": {
      "name": "python"
    }
  },
  "cells": [
    {
      "cell_type": "code",
      "source": [
        "!sudo apt-get install unzip\n",
        "!unzip archive.zip -d ."
      ],
      "metadata": {
        "colab": {
          "base_uri": "https://localhost:8080/"
        },
        "id": "RKiynN5GtBzu",
        "outputId": "0eb81581-8e11-421a-8c27-37b14322b1ac"
      },
      "execution_count": null,
      "outputs": [
        {
          "output_type": "stream",
          "name": "stdout",
          "text": [
            "Reading package lists... Done\n",
            "Building dependency tree... Done\n",
            "Reading state information... Done\n",
            "unzip is already the newest version (6.0-26ubuntu3.2).\n",
            "0 upgraded, 0 newly installed, 0 to remove and 45 not upgraded.\n",
            "Archive:  archive.zip\n",
            "  inflating: ./Student_Performance.csv  \n"
          ]
        }
      ]
    },
    {
      "cell_type": "code",
      "execution_count": null,
      "metadata": {
        "id": "3OA6XTt0jEo-"
      },
      "outputs": [],
      "source": [
        "import pandas as pd\n",
        "import numpy as np\n",
        "import matplotlib.pyplot as plt"
      ]
    },
    {
      "cell_type": "markdown",
      "source": [
        "## Importing the Dataset\n",
        "The dataset has 6 (5 + 1 constant) variables and the target parameter is Performance Index"
      ],
      "metadata": {
        "id": "1OEQEBo_vee7"
      }
    },
    {
      "cell_type": "code",
      "source": [
        "df = pd.read_csv(\"Student_Performance.csv\")\n",
        "df['Extracurricular Activities'] = df['Extracurricular Activities'].apply(lambda x: 1 if x=='Yes' else 0)"
      ],
      "metadata": {
        "id": "p-qgIlu9j6S8"
      },
      "execution_count": null,
      "outputs": []
    },
    {
      "cell_type": "code",
      "source": [
        "df['constant'] = 1\n",
        "df['train'] = 1"
      ],
      "metadata": {
        "id": "8_Td4rBElF0P"
      },
      "execution_count": null,
      "outputs": []
    },
    {
      "cell_type": "markdown",
      "source": [
        "## Splitting the Data\n",
        "80-20 Split"
      ],
      "metadata": {
        "id": "7USimzW_vsl-"
      }
    },
    {
      "cell_type": "code",
      "source": [
        "df.loc[df.sample(2000).index,'train'] = 0\n",
        "df_train = df[df['train'] == 1].drop('train',axis=1)\n",
        "df_test = df[df['train'] == 0].drop('train',axis=1)"
      ],
      "metadata": {
        "id": "ARp1-X_wlVMx"
      },
      "execution_count": null,
      "outputs": []
    },
    {
      "cell_type": "code",
      "source": [
        "X_train,y_train = np.array(df_train.drop('Performance Index',axis=1)),np.array(df_train['Performance Index'])"
      ],
      "metadata": {
        "id": "lA6yajp1n9CP"
      },
      "execution_count": null,
      "outputs": []
    },
    {
      "cell_type": "code",
      "source": [
        "X_test,y_test = np.array(df_test.drop('Performance Index',axis=1)),np.array(df_test['Performance Index'])"
      ],
      "metadata": {
        "id": "lzJ79ahFo9-S"
      },
      "execution_count": null,
      "outputs": []
    },
    {
      "cell_type": "markdown",
      "source": [
        "## Finding coefficients\n",
        "$$ \\min_{\\beta} (Y-X^T β)^2 $$\n",
        "$$ -X^T(Y-X^T\\beta) = 0 $$\n",
        "$$ β = (X^TX)^{-1}X^TY $$"
      ],
      "metadata": {
        "id": "d4f72EbjvwYm"
      }
    },
    {
      "cell_type": "code",
      "source": [
        "m = np.linalg.inv(X_train.T@X_train)@X_train.T@y_train"
      ],
      "metadata": {
        "id": "udcCqMzvp7RY"
      },
      "execution_count": null,
      "outputs": []
    },
    {
      "cell_type": "code",
      "source": [
        "m"
      ],
      "metadata": {
        "colab": {
          "base_uri": "https://localhost:8080/"
        },
        "id": "N56Lpcx3tbZx",
        "outputId": "8da77b90-283a-4ece-ac41-e684849d4dea"
      },
      "execution_count": null,
      "outputs": [
        {
          "output_type": "execute_result",
          "data": {
            "text/plain": [
              "array([  2.85462987,   1.01864187,   0.60862005,   0.47185575,\n",
              "         0.19757644, -34.06259042])"
            ]
          },
          "metadata": {},
          "execution_count": 13
        }
      ]
    },
    {
      "cell_type": "code",
      "source": [
        "y_pred = m@X_test.T"
      ],
      "metadata": {
        "id": "EBvmGCD7teYM"
      },
      "execution_count": null,
      "outputs": []
    },
    {
      "cell_type": "markdown",
      "source": [
        "## Goodness of Fit\n",
        "$$ R^2 = {ESS \\over ESS + RSS}$$\n",
        "$$ adj R^2 = { ESS (n-p) \\over TSS (n-1)} $$"
      ],
      "metadata": {
        "id": "L0FGX9SBGxoI"
      }
    },
    {
      "cell_type": "code",
      "source": [
        "RSS = ((y_pred-y_test)**2).sum()\n",
        "ESS = ((y_pred-y_test.mean())**2).sum()\n",
        "adjR2 = ESS*(2000-6) / ((ESS + RSS) * (2000-1))"
      ],
      "metadata": {
        "id": "vfaRm0HnuBjt"
      },
      "execution_count": null,
      "outputs": []
    },
    {
      "cell_type": "code",
      "source": [
        "adjR2"
      ],
      "metadata": {
        "colab": {
          "base_uri": "https://localhost:8080/"
        },
        "id": "ro8npe91uiyX",
        "outputId": "e7c45876-ec6d-47b9-a026-57aedb1b7f23"
      },
      "execution_count": null,
      "outputs": [
        {
          "output_type": "execute_result",
          "data": {
            "text/plain": [
              "0.9865952909969009"
            ]
          },
          "metadata": {},
          "execution_count": 16
        }
      ]
    },
    {
      "cell_type": "code",
      "source": [
        "sample = df.sample(500)\n",
        "plt.scatter(sample[['Hours Studied']],sample[['Performance Index']])\n",
        "axes = plt.gca()\n",
        "x_vals = np.array(axes.get_xlim())\n",
        "y_vals = m[-1] + m[0] * x_vals\n",
        "plt.plot(x_vals, y_vals, '--')"
      ],
      "metadata": {
        "id": "s3BxKkXrqJ7h",
        "colab": {
          "base_uri": "https://localhost:8080/",
          "height": 451
        },
        "outputId": "5301fd17-95bf-46ce-b89f-a96a6196e38c"
      },
      "execution_count": 18,
      "outputs": [
        {
          "output_type": "execute_result",
          "data": {
            "text/plain": [
              "[<matplotlib.lines.Line2D at 0x7986ccdee3e0>]"
            ]
          },
          "metadata": {},
          "execution_count": 18
        },
        {
          "output_type": "display_data",
          "data": {
            "text/plain": [
              "<Figure size 640x480 with 1 Axes>"
            ],
            "image/png": "[encoded data removed]"
          },
          "metadata": {}
        }
      ]
    }
  ]
}