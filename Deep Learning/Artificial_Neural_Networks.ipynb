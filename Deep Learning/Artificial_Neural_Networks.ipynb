{
  "cells": [
    {
      "cell_type": "markdown",
      "metadata": {},
      "source": [
        "### Importing Required Libraries"
      ]
    },
    {
      "cell_type": "code",
      "execution_count": 1,
      "metadata": {
        "id": "Iqp9QhOU_z2C"
      },
      "outputs": [],
      "source": [
        "import numpy as np\n",
        "from sklearn.datasets import load_breast_cancer\n",
        "from sklearn.model_selection import train_test_split\n",
        "from NeuralNet.NeuralNet import NeuralNet\n",
        "from NeuralNet.utils import Utils\n",
        "from NeuralNet.optimizers import Optimizers"
      ]
    },
    {
      "cell_type": "markdown",
      "metadata": {},
      "source": [
        "### Loading Dataset\n",
        "We here are using a breast cancer dataset which has 30 input features and 1 output feature to predict benign or mallignant cancer. There are 569 datapoint"
      ]
    },
    {
      "cell_type": "code",
      "execution_count": 2,
      "metadata": {
        "id": "H9i9FsC9ALBV"
      },
      "outputs": [],
      "source": [
        "data = load_breast_cancer()\n",
        "X = data['data']\n",
        "Y = data['target']"
      ]
    },
    {
      "cell_type": "markdown",
      "metadata": {},
      "source": [
        "### 80-20 Train Test Split"
      ]
    },
    {
      "cell_type": "code",
      "execution_count": 3,
      "metadata": {
        "id": "zT_WoYq_HlRt"
      },
      "outputs": [],
      "source": [
        "X_train,X_test,y_train,y_test = train_test_split(X,Y,test_size=0.2)\n",
        "X_train = X_train.reshape(len(X_train),1,30)\n",
        "y_train = y_train.reshape(len(y_train),1,1)"
      ]
    },
    {
      "cell_type": "code",
      "execution_count": 4,
      "metadata": {
        "colab": {
          "base_uri": "https://localhost:8080/"
        },
        "id": "Tjz4obwFHzYW",
        "outputId": "e4342ca0-25dc-480a-b79a-72b8eb9ba496"
      },
      "outputs": [
        {
          "name": "stdout",
          "output_type": "stream",
          "text": [
            "(455, 1, 30)\n",
            "(114, 30)\n"
          ]
        }
      ],
      "source": [
        "print(X_train.shape)\n",
        "print(X_test.shape)"
      ]
    },
    {
      "cell_type": "markdown",
      "metadata": {},
      "source": [
        "### Defining The Network\n",
        "we here define a 4 layer network with 1 input, 1 output and 2 hidden layers. "
      ]
    },
    {
      "cell_type": "code",
      "execution_count": 5,
      "metadata": {
        "id": "WzwSv8zKH5Jz"
      },
      "outputs": [],
      "source": [
        "L = 4\n",
        "N = [30,60,30,1]\n",
        "utils = Utils()"
      ]
    },
    {
      "cell_type": "markdown",
      "metadata": {},
      "source": [
        "### Defining the Optimizer and loss"
      ]
    },
    {
      "cell_type": "markdown",
      "metadata": {},
      "source": [
        "#### Gradient Descent\n",
        "$$ \\theta_{t+1} = \\theta_t - \\eta\\cdot\\nabla \\theta_t $$"
      ]
    },
    {
      "cell_type": "code",
      "execution_count": 6,
      "metadata": {
        "id": "CSG1-c-TIRgO"
      },
      "outputs": [
        {
          "name": "stderr",
          "output_type": "stream",
          "text": [
            "d:\\Workspace\\GitRepos\\ML-DL-Fundamentals\\Deep Learning\\NeuralNet\\utils.py:9: RuntimeWarning: overflow encountered in exp\n",
            "  return 1 / (1 + np.exp(-z))\n"
          ]
        }
      ],
      "source": [
        "FFN_grad_desc = NeuralNet(L,N)\n",
        "opt_FFN = Optimizers(FFN_grad_desc,utils.cost_BCE)\n",
        "opt_FFN.gradient_descent(100,X_train,y_train,0.01)"
      ]
    },
    {
      "cell_type": "markdown",
      "metadata": {},
      "source": [
        "#### Gradient Descent with Momentum\n",
        "$$ v_t = \\beta \\cdot v_{t-1} + \\nabla \\theta_t $$\n",
        "$$ \\theta_{t+1} = \\theta_t - \\eta\\cdot v_t $$"
      ]
    },
    {
      "cell_type": "code",
      "execution_count": 7,
      "metadata": {
        "id": "ZG8xaNrVKd0-"
      },
      "outputs": [],
      "source": [
        "FFN_mom_grad_desc = NeuralNet(L,N)\n",
        "opt_FFN_mom_grad_desc = Optimizers(FFN_mom_grad_desc,utils.cost_BCE)\n",
        "opt_FFN_mom_grad_desc.gradient_descent_with_momentum(100,X_train,y_train,0.01,0.01)"
      ]
    },
    {
      "cell_type": "markdown",
      "metadata": {},
      "source": [
        "### Loss vs Epoch\n",
        "We see that Momentum with gradient descent has a higher slope as compared to vanilla gradient descent hence converges faster"
      ]
    },
    {
      "cell_type": "code",
      "execution_count": 9,
      "metadata": {
        "colab": {
          "base_uri": "https://localhost:8080/",
          "height": 452
        },
        "id": "tOTaY37SrVqx",
        "outputId": "67656ba6-9132-487f-daba-06c5dc87849e"
      },
      "outputs": [
        {
          "data": {
            "text/plain": [
              "[<matplotlib.lines.Line2D at 0x1f8c6dbefa0>]"
            ]
          },
          "execution_count": 9,
          "metadata": {},
          "output_type": "execute_result"
        },
        {
          "data": {
            "image/png": "[encoded data removed]",
            "text/plain": [
              "<Figure size 640x480 with 1 Axes>"
            ]
          },
          "metadata": {},
          "output_type": "display_data"
        }
      ],
      "source": [
        "import matplotlib.pyplot as plt\n",
        "\n",
        "plt.plot(range(100),opt_FFN.loss)\n",
        "plt.plot(range(100),opt_FFN_mom_grad_desc.loss)"
      ]
    }
  ],
  "metadata": {
    "colab": {
      "provenance": []
    },
    "kernelspec": {
      "display_name": "Python 3",
      "name": "python3"
    },
    "language_info": {
      "codemirror_mode": {
        "name": "ipython",
        "version": 3
      },
      "file_extension": ".py",
      "mimetype": "text/x-python",
      "name": "python",
      "nbconvert_exporter": "python",
      "pygments_lexer": "ipython3",
      "version": "3.8.18"
    }
  },
  "nbformat": 4,
  "nbformat_minor": 0
}
